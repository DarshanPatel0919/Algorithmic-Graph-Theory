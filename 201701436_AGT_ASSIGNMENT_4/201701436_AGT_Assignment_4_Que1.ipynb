{
  "nbformat": 4,
  "nbformat_minor": 0,
  "metadata": {
    "colab": {
      "name": "201701436_AGT_Assignment_4_Que1.ipynb",
      "provenance": [],
      "private_outputs": true
    },
    "kernelspec": {
      "name": "python3",
      "display_name": "Python 3"
    }
  },
  "cells": [
    {
      "cell_type": "code",
      "metadata": {
        "id": "z_871nyp3B_S"
      },
      "source": [
        "## Adj : Adjacency list\n",
        "## P : Partition sets  P0, P1\n",
        "## V : stores visited nodes during dfs\n",
        " \n",
        "class Graph:\n",
        "  def __init__(self):\n",
        "    self.Adj = {}\n",
        "    self.P = { 0:set(), 1:set() }\n",
        "    self.V = set()\n",
        "\n",
        "  def dfs_bp(self, x, clr):\n",
        "    self.V.add(x)\n",
        "    self.P[clr].add(x)\n",
        "    for node in self.Adj[x]:\n",
        "      if node == x:\n",
        "        return True\n",
        "      if node not in self.V:\n",
        "        if self.dfs_bp(node, clr^1):\n",
        "          return True\n",
        "      elif node in self.P[clr]:\n",
        "          return True  \n",
        "    return False\n",
        " \n",
        "  def add_edge(self, u,v):\n",
        "    if u not in self.Adj:\n",
        "      self.Adj[u] = {}\n",
        "    if v not in self.Adj:\n",
        "      self.Adj[v] = {}\n",
        " \n",
        "    if u in self.Adj[v]:\n",
        "      self.Adj[u][v] += 1\n",
        "      self.Adj[v][u] += 1\n",
        "    elif u == v:\n",
        "      self.Adj[u][u] = 2 \n",
        "    else:\n",
        "      self.Adj[u][v] = 1\n",
        "      self.Adj[v][u] = 1\n",
        " \n",
        "  def is_bipartite(self):\n",
        "    self.V = set()\n",
        "    for node in self.Adj:\n",
        "      if node not in self.V:\n",
        "        if self.dfs_bp(node, 0):\n",
        "          return False\n",
        "    return True\n",
        "\n",
        "  def print_bipartite(self):\n",
        "    if not self.is_bipartite() :\n",
        "      return print(\"Graph is not bipartite!!\\n\")\n",
        "    print(\"A :\",self.P[0])\n",
        "    print(\"B :\",self.P[1],'\\n')\n",
        "\n"
      ],
      "execution_count": null,
      "outputs": []
    },
    {
      "cell_type": "code",
      "metadata": {
        "id": "nvmxmv_-N2H6"
      },
      "source": [
        "G1 = Graph()\n",
        "\n",
        "\n",
        "G1.add_edge(5, 10)\n",
        "G1.add_edge(6, 8)\n",
        "G1.add_edge(1, 2)\n",
        "G1.add_edge(1, 4)\n",
        "G1.add_edge(1, 6)\n",
        "G1.add_edge(3, 4)\n",
        "G1.add_edge(3, 6)\n",
        "G1.add_edge(5, 6)\n",
        "G1.add_edge(6, 9)\n",
        "G1.add_edge(7, 8)\n",
        "\n",
        "\n",
        "print(\"Op \",1)\n",
        "# initially not bipartite\n",
        "G1.print_bipartite()\n",
        "\n"
      ],
      "execution_count": null,
      "outputs": []
    },
    {
      "cell_type": "code",
      "metadata": {
        "id": "HViBUf7BN28v"
      },
      "source": [
        "G2 = Graph()\n",
        "\n",
        "G2.add_edge(5, 10)\n",
        "G2.add_edge(6, 8)\n",
        "G2.add_edge(1, 2)\n",
        "G2.add_edge(1, 4)\n",
        "G2.add_edge(1, 6)\n",
        "G2.add_edge(3, 4)\n",
        "G2.add_edge(3, 6)\n",
        "G2.add_edge(5, 6)\n",
        "G2.add_edge(6, 9)\n",
        "G2.add_edge(7, 8)\n",
        "G2.add_edge(8, 9)\n",
        "\n",
        "print(\"Op \",1)\n",
        "# initially not bipartite\n",
        "G2.print_bipartite()\n",
        "\n"
      ],
      "execution_count": null,
      "outputs": []
    },
    {
      "cell_type": "code",
      "metadata": {
        "id": "asyV7pkxkxD2"
      },
      "source": [
        ""
      ],
      "execution_count": null,
      "outputs": []
    }
  ]
}