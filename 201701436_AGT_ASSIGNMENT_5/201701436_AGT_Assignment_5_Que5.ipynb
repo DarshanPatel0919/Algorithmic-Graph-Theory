{
  "nbformat": 4,
  "nbformat_minor": 0,
  "metadata": {
    "colab": {
      "name": "201701436_AGT_Assignment_5_Que5.ipynb",
      "provenance": [],
      "private_outputs": true
    },
    "kernelspec": {
      "name": "python3",
      "display_name": "Python 3"
    }
  },
  "cells": [
    {
      "cell_type": "code",
      "metadata": {
        "id": "-48I_2PrpDZf"
      },
      "source": [
        "from itertools import combinations\n",
        "\n",
        "def is_graphic(S):\n",
        "  S.sort(reverse=True)\n",
        "  if S[0] == 0:\n",
        "    return True\n",
        "  k = S[0]\n",
        "  i = 1\n",
        "  while k > 0 and i < len(S):\n",
        "    if S[i] > 0:\n",
        "      S[i] -= 1\n",
        "      k -= 1\n",
        "    else:\n",
        "      break\n",
        "    i += 1\n",
        "  if k > 0:\n",
        "    return False\n",
        "  return is_graphic(S[1:])\n",
        "\n",
        "def potentially_Connected(S, n):\n",
        "  if 0 in S:\n",
        "    return False\n",
        "  if sum(S) < 2*(n-1):\n",
        "    return False\n",
        "  return True\n",
        "\n",
        "def forcibly_Connected(S, n):\n",
        "  index = [i for i in range(n)]\n",
        "  for i in range(1, (n//2) + 1):\n",
        "    for subset in list(combinations(index,i)):\n",
        "      S1, S2 = [], []\n",
        "      for ind in index:\n",
        "        if ind in subset:\n",
        "          S1.append(S[ind])\n",
        "        else:\n",
        "          S2.append(S[ind])\n",
        "      if is_graphic(S1) and is_graphic(S2):\n",
        "        return False\n",
        "  return True\n",
        "\n",
        "def potentially_Tree(S, n):\n",
        "  if not potentially_Connected(S, n):\n",
        "    return False\n",
        "  if not sum(S) == 2*(n-1):\n",
        "    return False\n",
        "  return True\n",
        "\n",
        "def forcibly_Tree(S, n):\n",
        "  if not sum(S) == 2*(n-1):\n",
        "    return False\n",
        "  if not forcibly_Connected(S, n):\n",
        "    return False\n",
        "  return True \n",
        "\n",
        "S = [2,2,2,2,2,2,2]\n",
        "n = len(S)\n",
        "print(\"is_graphic\",is_graphic(S))\n",
        "print(\"potentially_Connected\",potentially_Connected(S,n))\n",
        "print(\"forcibly_Connected\",forcibly_Connected(S, n))\n",
        "print(\"potentially_Tree\",potentially_Tree(S, n))\n",
        "print(\"forcibly_Tree\",forcibly_Tree(S, n))"
      ],
      "execution_count": null,
      "outputs": []
    }
  ]
}